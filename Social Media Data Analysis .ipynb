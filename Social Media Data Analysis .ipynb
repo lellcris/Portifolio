{
 "cells": [
  {
   "cell_type": "markdown",
   "metadata": {},
   "source": [
    "# Clean & Analyze Social Media"
   ]
  },
  {
   "cell_type": "markdown",
   "metadata": {},
   "source": [
    "The project began by generating random social media data to simulate various post categories and like counts. I utilized Python’s Pandas, Seaborn, and Matplotlib libraries to clean, explore, and visualize the data effectively. Throughout the process, I encountered and resolved challenges related to data cleaning, ensuring the final dataset was robust for analysis. Additionally, I experimented with Seaborn palettes to enhance visual appeal and legibility of the plots."
   ]
  },
  {
   "cell_type": "code",
   "execution_count": 5,
   "metadata": {},
   "outputs": [],
   "source": [
    "# Packages \n",
    "import pandas as pd\n",
    "import matplotlib.pyplot as plt\n",
    "import numpy as np\n",
    "import seaborn as sns"
   ]
  },
  {
   "cell_type": "code",
   "execution_count": 6,
   "metadata": {},
   "outputs": [],
   "source": [
    "import random"
   ]
  },
  {
   "cell_type": "code",
   "execution_count": 7,
   "metadata": {},
   "outputs": [
    {
     "name": "stdout",
     "output_type": "stream",
     "text": [
      "        Date Category  Likes\n",
      "0 2021-01-01     Food    579\n",
      "1 2021-01-02   Travel   2823\n",
      "2 2021-01-03     Food     68\n",
      "3 2021-01-04   Travel   3627\n",
      "4 2021-01-05   Health   3899\n"
     ]
    }
   ],
   "source": [
    "# Define categories\n",
    "categories = ['Food', 'Travel', 'Fashion', 'Fitness', 'Music', 'Culture', 'Family', 'Health']\n",
    "\n",
    "# Set the number of entries you want (e.g., n = 500)\n",
    "n = 500\n",
    "\n",
    "# Generate random data\n",
    "data = {\n",
    "    'Date': pd.date_range(start='2021-01-01', periods=n),\n",
    "    'Category': [random.choice(categories) for _ in range(n)],\n",
    "    'Likes': np.random.randint(0, 10000, size=n)\n",
    "}\n",
    "\n",
    "# Convert the dictionary to a DataFrame\n",
    "df = pd.DataFrame(data)\n",
    "\n",
    "# Display the first few rows of the DataFrame\n",
    "print(df.head())"
   ]
  },
  {
   "cell_type": "code",
   "execution_count": 8,
   "metadata": {
    "tags": [
     "Dataframe",
     "Structure"
    ]
   },
   "outputs": [
    {
     "name": "stdout",
     "output_type": "stream",
     "text": [
      "<class 'pandas.core.frame.DataFrame'>\n",
      "RangeIndex: 500 entries, 0 to 499\n",
      "Data columns (total 3 columns):\n",
      " #   Column    Non-Null Count  Dtype         \n",
      "---  ------    --------------  -----         \n",
      " 0   Date      500 non-null    datetime64[ns]\n",
      " 1   Category  500 non-null    object        \n",
      " 2   Likes     500 non-null    int64         \n",
      "dtypes: datetime64[ns](1), int64(1), object(1)\n",
      "memory usage: 11.8+ KB\n",
      "None\n"
     ]
    }
   ],
   "source": [
    "# DataFrame’s structure, (number of entries, column names, data types, and memory usage).\n",
    "print(df.info())"
   ]
  },
  {
   "cell_type": "code",
   "execution_count": 9,
   "metadata": {
    "tags": [
     "Minimum",
     "Maximum",
     "Mean",
     "Standard-Deviation"
    ]
   },
   "outputs": [
    {
     "name": "stdout",
     "output_type": "stream",
     "text": [
      "             Likes\n",
      "count   500.000000\n",
      "mean   5071.340000\n",
      "std    2853.075821\n",
      "min      18.000000\n",
      "25%    2649.000000\n",
      "50%    5072.500000\n",
      "75%    7548.500000\n",
      "max    9987.000000\n"
     ]
    }
   ],
   "source": [
    "#Summary of numerical columns (count, mean, standard deviation, minimum, and maximum values).\n",
    "print(df.describe())"
   ]
  },
  {
   "cell_type": "code",
   "execution_count": 10,
   "metadata": {
    "tags": [
     "Category",
     "Frequency"
    ]
   },
   "outputs": [
    {
     "name": "stdout",
     "output_type": "stream",
     "text": [
      "Food       79\n",
      "Fashion    65\n",
      "Fitness    64\n",
      "Travel     61\n",
      "Music      59\n",
      "Health     58\n",
      "Family     58\n",
      "Culture    56\n",
      "Name: Category, dtype: int64\n"
     ]
    }
   ],
   "source": [
    "# Count the Frequency of Each Category(How many times each category appears in the data)\n",
    "\n",
    "category_counts = df['Category'].value_counts()\n",
    "print(category_counts)\n"
   ]
  },
  {
   "cell_type": "code",
   "execution_count": 11,
   "metadata": {
    "tags": [
     "Null-values"
    ]
   },
   "outputs": [],
   "source": [
    "# Remove rows with any null values\n",
    "df_cleaned = df.dropna()"
   ]
  },
  {
   "cell_type": "code",
   "execution_count": 12,
   "metadata": {
    "tags": [
     "Duplicate-rows"
    ]
   },
   "outputs": [],
   "source": [
    "# Remove duplicate rows\n",
    "df_cleaned = df_cleaned.drop_duplicates()"
   ]
  },
  {
   "cell_type": "code",
   "execution_count": 13,
   "metadata": {},
   "outputs": [],
   "source": [
    "# Convert 'Date' column to datetime format\n",
    "df_cleaned['Date'] = pd.to_datetime(df_cleaned['Date'])"
   ]
  },
  {
   "cell_type": "code",
   "execution_count": 14,
   "metadata": {},
   "outputs": [],
   "source": [
    "# Convert 'Likes' column to integer format\n",
    "df_cleaned['Likes'] = df_cleaned['Likes'].astype(int)"
   ]
  },
  {
   "cell_type": "code",
   "execution_count": 15,
   "metadata": {},
   "outputs": [
    {
     "name": "stdout",
     "output_type": "stream",
     "text": [
      "<class 'pandas.core.frame.DataFrame'>\n",
      "Int64Index: 500 entries, 0 to 499\n",
      "Data columns (total 3 columns):\n",
      " #   Column    Non-Null Count  Dtype         \n",
      "---  ------    --------------  -----         \n",
      " 0   Date      500 non-null    datetime64[ns]\n",
      " 1   Category  500 non-null    object        \n",
      " 2   Likes     500 non-null    int64         \n",
      "dtypes: datetime64[ns](1), int64(1), object(1)\n",
      "memory usage: 15.6+ KB\n",
      "None\n"
     ]
    }
   ],
   "source": [
    "# Display the cleaned DataFrame's information to confirm changes\n",
    "print(df_cleaned.info())"
   ]
  },
  {
   "cell_type": "code",
   "execution_count": 16,
   "metadata": {},
   "outputs": [
    {
     "name": "stdout",
     "output_type": "stream",
     "text": [
      "        Date Category  Likes\n",
      "0 2021-01-01     Food    579\n",
      "1 2021-01-02   Travel   2823\n",
      "2 2021-01-03     Food     68\n",
      "3 2021-01-04   Travel   3627\n",
      "4 2021-01-05   Health   3899\n"
     ]
    }
   ],
   "source": [
    "print(df.head())"
   ]
  },
  {
   "cell_type": "code",
   "execution_count": 17,
   "metadata": {},
   "outputs": [],
   "source": [
    "import seaborn as sns\n",
    "import matplotlib.pyplot as plt"
   ]
  },
  {
   "cell_type": "code",
   "execution_count": 20,
   "metadata": {
    "tags": [
     "Histogram"
    ]
   },
   "outputs": [
    {
     "data": {
      "image/png": "[encoded data removed]",
      "text/plain": [
       "<Figure size 640x480 with 1 Axes>"
      ]
     },
     "metadata": {},
     "output_type": "display_data"
    }
   ],
   "source": [
    "# Create a histogram of the 'Likes' column\n",
    "sns.histplot(df_cleaned['Likes']),\n",
    "plt.xlabel('Likes')\n",
    "plt.ylabel('Frequency')\n",
    "plt.title('Distribution of Likes')\n",
    "plt.show()"
   ]
  },
  {
   "cell_type": "code",
   "execution_count": 30,
   "metadata": {
    "tags": [
     "Boxplot"
    ]
   },
   "outputs": [
    {
     "data": {
      "image/png": "[encoded data removed]",
      "text/plain": [
       "<Figure size 432x288 with 1 Axes>"
      ]
     },
     "metadata": {
      "needs_background": "light"
     },
     "output_type": "display_data"
    }
   ],
   "source": [
    "# Create a Boxplot with a Custom Color Palette\n",
    "sns.boxplot(x='Category', y='Likes', data=df_cleaned, palette=\"Pastel1\")  \n",
    "plt.xlabel('Category')\n",
    "plt.ylabel('Likes')\n",
    "plt.title('Likes Distribution Across Categories')\n",
    "plt.xticks(rotation=45)\n",
    "plt.show()"
   ]
  },
  {
   "cell_type": "code",
   "execution_count": 31,
   "metadata": {},
   "outputs": [
    {
     "name": "stdout",
     "output_type": "stream",
     "text": [
      "Mean of Likes: 4830.304\n"
     ]
    }
   ],
   "source": [
    "# Calculate and print the overall mean of 'Likes'\n",
    "mean_likes = df_cleaned['Likes'].mean()\n",
    "print(\"Mean of Likes:\", mean_likes)"
   ]
  },
  {
   "cell_type": "code",
   "execution_count": 32,
   "metadata": {},
   "outputs": [
    {
     "name": "stdout",
     "output_type": "stream",
     "text": [
      "Category\n",
      "Culture    4874.447761\n",
      "Family     4404.550000\n",
      "Fashion    4851.588235\n",
      "Fitness    4884.952381\n",
      "Food       4758.396552\n",
      "Health     5280.078431\n",
      "Music      4793.625000\n",
      "Travel     4856.049180\n",
      "Name: Likes, dtype: float64\n"
     ]
    }
   ],
   "source": [
    "# Calculate and print the mean 'Likes' for each 'Category'\n",
    "mean_likes_by_category = df_cleaned.groupby('Category')['Likes'].mean()\n",
    "print(mean_likes_by_category)\n"
   ]
  },
  {
   "cell_type": "markdown",
   "metadata": {},
   "source": [
    "### Key Findings ###"
   ]
  },
  {
   "cell_type": "markdown",
   "metadata": {
    "tags": [
     "Key",
     "Findings"
    ]
   },
   "source": [
    "The analysis revealed a nearly uniform distribution of likes across all posts, likely due to the random nature of the data generation. Among categories, 'Culture' and 'Food' posts tended to receive higher average likes, while 'Fashion' and 'Health' were slightly lower. Such insights might indicate potential areas for content focus, especially if these categories were real-world data."
   ]
  },
  {
   "cell_type": "markdown",
   "metadata": {},
   "source": [
    "### This Project ###"
   ]
  },
  {
   "cell_type": "markdown",
   "metadata": {},
   "source": [
    "What sets this project apart is the thorough approach to data quality and the commitment to making data-driven insights accessible through clear and visually appealing plots. My focus on data cleaning and aesthetic customization showcases a readiness to adapt and optimize for real-world analytics tasks."
   ]
  },
  {
   "cell_type": "markdown",
   "metadata": {},
   "source": [
    "### Improvements ###"
   ]
  },
  {
   "cell_type": "markdown",
   "metadata": {},
   "source": [
    "To elevate this analysis further, I would consider generating data that reflects real-world social media patterns, potentially including additional metrics like comments or shares. An interactive dashboard could also offer users an engaging way to explore the data dynamically, providing more flexibility in how insights are derived and applied."
   ]
  }
 ],
 "metadata": {
  "celltoolbar": "Tags",
  "kernelspec": {
   "display_name": "Python 3 (ipykernel)",
   "language": "python",
   "name": "python3"
  },
  "language_info": {
   "codemirror_mode": {
    "name": "ipython",
    "version": 3
   },
   "file_extension": ".py",
   "mimetype": "text/x-python",
   "name": "python",
   "nbconvert_exporter": "python",
   "pygments_lexer": "ipython3",
   "version": "3.11.5"
  }
 },
 "nbformat": 4,
 "nbformat_minor": 4
}
